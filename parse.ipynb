{
 "cells": [
  {
   "cell_type": "code",
   "execution_count": 1,
   "metadata": {},
   "outputs": [],
   "source": [
    "# -*- coding: utf-8 -*-\n",
    "import numpy as np\n",
    "import cv2\n",
    "import os\n",
    "import pandas as pd\n",
    "import h5py\n",
    "\n",
    "\n",
    "train_folder = \"train\"\n",
    "test_folder = \"test\"\n",
    "extra_folder = \"<YOURDIR>\\extra\"\n",
    "resize_size = (64,64)\n",
    "\n",
    "\n",
    "def get_name(index, hdf5_data):\n",
    "    name = hdf5_data['/digitStruct/name']\n",
    "    return ''.join([chr(v[0]) for v in hdf5_data[name[index][0]].value])\n",
    "\n",
    "def get_bbox(index, hdf5_data):\n",
    "    attrs = {}\n",
    "    item = hdf5_data['digitStruct']['bbox'][index].item()\n",
    "    for key in ['label', 'left', 'top', 'width', 'height']:\n",
    "        attr = hdf5_data[item][key]\n",
    "        values = [hdf5_data[attr.value[i].item()].value[0][0]\n",
    "                  for i in range(len(attr))] if len(attr) > 1 else [attr.value[0][0]]\n",
    "        attrs[key] = values\n",
    "    return attrs\n",
    "\n",
    "# def collapse_col(row):\n",
    "#     global resize_size\n",
    "#     new_row = {}\n",
    "#     new_row['img_name'] = list(row['img_name'])[0]\n",
    "#     new_row['labels'] = row['label'].astype(np.str).str.cat(sep='_')\n",
    "#     new_row['top'] = max(int(row['top'].min()),0)\n",
    "#     new_row['left'] = max(int(row['left'].min()),0)\n",
    "#     new_row['bottom'] = int(row['bottom'].max())\n",
    "#     new_row['right'] = int(row['right'].max())\n",
    "#     new_row['width'] = int(new_row['right'] - new_row['left'])\n",
    "#     new_row['height'] = int(new_row['bottom'] - new_row['top'])\n",
    "#     new_row['num_digits'] = len(row['label'].values)\n",
    "#     return pd.Series(new_row,index=None)\n",
    "\n",
    "# def image_data_constuctor(img_folder, img_bbox_data):\n",
    "#     print('image data construction starting...')\n",
    "#     imgs = []\n",
    "#     for img_file in os.listdir(img_folder):\n",
    "#         if img_file.endswith('.png'):\n",
    "#             imgs.append([img_file,cv2.imread(os.path.join(img_folder,img_file))])\n",
    "#     img_data = pd.DataFrame([],columns=['img_name','img_height','img_width','img','cut_img'])\n",
    "#     print('finished loading images...starting image processing...')\n",
    "#     for img_info in imgs:\n",
    "#         row = img_bbox_data[img_bbox_data['img_name']==img_info[0]]\n",
    "#         full_img = img_info[1] #cv2.normalize(cv2.cvtColor(cv2.resize(img_info[1],resize_size), cv2.COLOR_BGR2GRAY).astype(np.float64), 0, 1, cv2.NORM_MINMAX)\n",
    "#         cut_img = full_img.copy()[int(row['top']):int(row['top']+row['height']),int(row['left']):int(row['left']+row['width']),...]\n",
    "#         row_dict = {'img_name':[img_info[0]],'img_height':[img_info[1].shape[0]],'img_width':[img_info[1].shape[1]],'img':[full_img],'cut_img':[cut_img]}\n",
    "#         img_data = pd.concat([img_data,pd.DataFrame.from_dict(row_dict,orient = 'columns')])\n",
    "#     print('finished image processing...')\n",
    "#     return img_data\n",
    "\n",
    "# def get_name(index, hdf5_data):\n",
    "#     name = hdf5_data['/digitStruct/name']\n",
    "#     return ''.join([chr(v[0]) for v in hdf5_data[name[index][0]].value])\n",
    "\n",
    "# def get_bbox(index, hdf5_data):\n",
    "#     attrs = {}\n",
    "#     item = hdf5_data['digitStruct']['bbox'][index].item()\n",
    "#     for key in ['label', 'left', 'top', 'width', 'height']:\n",
    "#         attr = hdf5_data[item][key]\n",
    "#         values = [hdf5_data[attr.value[i].item()].value[0][0]\n",
    "#                   for i in range(len(attr))] if len(attr) > 1 else [attr.value[0][0]]\n",
    "#         attrs[key] = values\n",
    "#     return attrs\n",
    "\n",
    "# def img_boundingbox_data_constructor(mat_file):\n",
    "#     f = h5py.File(mat_file,'r') \n",
    "#     all_rows = []\n",
    "#     print('image bounding box data construction starting...')\n",
    "#     bbox_df = pd.DataFrame([],columns=['height','img_name','label','left','top','width'])\n",
    "#     for j in range(f['/digitStruct/bbox'].shape[0]):\n",
    "#         img_name = get_name(j, f)\n",
    "#         row_dict = get_bbox(j, f)\n",
    "#         row_dict['img_name'] = img_name\n",
    "#         all_rows.append(row_dict)\n",
    "#         bbox_df = pd.concat([bbox_df,pd.DataFrame.from_dict(row_dict,orient = 'columns')])\n",
    "#     bbox_df['bottom'] = bbox_df['top']+bbox_df['height']\n",
    "#     bbox_df['right'] = bbox_df['left']+bbox_df['width']\n",
    "#     print('finished image bounding box data construction...')\n",
    "#     return bbox_df\n",
    "\n",
    "\n",
    "# def construct_all_data(img_folder,mat_file_name,h5_name):\n",
    "#     img_bbox_data = img_boundingbox_data_constructor(os.path.join(img_folder,mat_file_name))\n",
    "#     img_bbox_data_grouped = img_bbox_data.groupby('img_name').apply(collapse_col) \n",
    "#     img_data = image_data_constuctor(img_folder, img_bbox_data_grouped)\n",
    "#     print('done constructing main dataframes...starting grouping')\n",
    "#     df1 = img_bbox_data_grouped.merge(img_data,on='img_name',how='left')\n",
    "#     print('grouping done')\n",
    "#     #df1.to_csv(os.path.join(img_folder,csv_name), index = False)\n",
    "#     df1.to_hdf(os.path.join(img_folder,h5_name),'table')\n",
    "\n",
    "# #construct_all_data(test_folder,'digitStruct.mat','test_data_processed.h5')\n",
    "# construct_all_data(train_folder,'digitStruct.mat','train_data_processed.h5')\n",
    "# #construct_all_data(extra_folder,'digitStruct.mat','extra_data_processed.h5') #takes a long time"
   ]
  },
  {
   "cell_type": "markdown",
   "metadata": {},
   "source": [
    "# 製作label"
   ]
  },
  {
   "cell_type": "code",
   "execution_count": 2,
   "metadata": {},
   "outputs": [],
   "source": [
    "import h5py  #匯入工具包\n",
    "import numpy as np"
   ]
  },
  {
   "cell_type": "code",
   "execution_count": 8,
   "metadata": {},
   "outputs": [
    {
     "name": "stdout",
     "output_type": "stream",
     "text": [
      "-----建立成功-----\n"
     ]
    }
   ],
   "source": [
    "# HDF5的讀取：\n",
    "f = h5py.File('train/digitStruct.mat','r')\n",
    "path = 'train_label'\n",
    "data_num = len(f['digitStruct']['bbox'])\n",
    "\n",
    "\n",
    "def mkdir(path):\n",
    "    #判斷目錄是否存在\n",
    "    #存在：True\n",
    "    #不存在：False\n",
    "    folder = os.path.exists(path)\n",
    "\n",
    "    #判斷結果\n",
    "    if not folder:\n",
    "        #如果不存在，則建立新目錄\n",
    "        os.makedirs(path)\n",
    "        print('-----建立成功-----')\n",
    "\n",
    "    else:\n",
    "        #如果目錄已存在，則不建立，提示目錄已存在\n",
    "        print(path+'目錄已存在')\n",
    "\n",
    "\n",
    "mkdir(path)"
   ]
  },
  {
   "cell_type": "code",
   "execution_count": 9,
   "metadata": {
    "collapsed": true
   },
   "outputs": [],
   "source": [
    "def makeLabel(file_name, h5, img_w, img_h, label_path):\n",
    "    # for Yolo\n",
    "    # label資料夾名稱要與data相同\n",
    "    f = open(label_path.split('.')[0]+'.txt','w')\n",
    "    idx = int(file_name)-1\n",
    "    a = get_bbox(idx, h5)\n",
    "    for i in range(len(a['label'])):\n",
    "        label = int(a['label'][i])-1\n",
    "        left = a['left'][i]\n",
    "        top = a['top'][i]\n",
    "        width = a['width'][i]\n",
    "        height = a['height'][i]\n",
    "        x = (left + width/2) / img_w\n",
    "        y = (top + height/2) / img_h\n",
    "        w = width / img_w\n",
    "        h = height / img_h\n",
    "        if x > 1:\n",
    "            x=1\n",
    "        if y > 1:\n",
    "            y=1\n",
    "        if w > 1:\n",
    "            w=1\n",
    "        if h>1:\n",
    "            h=1\n",
    "        f.write('{} {} {} {} {}'.format(label, x, y, w, h))\n",
    "        f.write('\\n')\n",
    "        \n",
    "    f.close()\n",
    "        \n",
    "    \n",
    "    "
   ]
  },
  {
   "cell_type": "code",
   "execution_count": 10,
   "metadata": {},
   "outputs": [
    {
     "name": "stdout",
     "output_type": "stream",
     "text": [
      "33402\n"
     ]
    }
   ],
   "source": [
    "originPath = 'train'\n",
    "h5 = h5py.File('train/digitStruct.mat','r') \n",
    "# 列出指定路徑底下所有檔案(包含資料夾)\n",
    "allFileList = os.listdir(originPath)\n",
    "\n",
    "# 逐一查詢檔案清單\n",
    "n = 0\n",
    "for file in allFileList:\n",
    "    file_name = file.split('.')[0]\n",
    "    if os.path.isfile(os.path.join(originPath,file)):\n",
    "        if file.endswith('png'):\n",
    "            img = cv2.imread(os.path.join(originPath,file))\n",
    "            img_h = img.shape[0]\n",
    "            img_w = img.shape[1]\n",
    "            n+=1\n",
    "            label_path = 'train_label/'+file\n",
    "            makeLabel(file_name, h5, img_w, img_h, label_path)\n",
    "            \n",
    "print(n)"
   ]
  },
  {
   "cell_type": "code",
   "execution_count": 14,
   "metadata": {
    "scrolled": false
   },
   "outputs": [
    {
     "name": "stdout",
     "output_type": "stream",
     "text": [
      "33402\n",
      "12668.png\n",
      "{'label': [4.0, 10.0], 'left': [11.0, 17.0], 'top': [1.0, 1.0], 'width': [6.0, 8.0], 'height': [17.0, 11.0]}\n",
      "2\n",
      "4.0\n"
     ]
    }
   ],
   "source": [
    "#HDF5的讀取：\n",
    "f = h5py.File('train/digitStruct.mat','r') \n",
    "print(len(f['digitStruct']['bbox']))\n",
    "a = get_name(12667, f)\n",
    "b = get_bbox(12667,f)\n",
    "print(a)\n",
    "print(b)\n",
    "print(len(b['label']))\n",
    "print(b['label'][0])"
   ]
  },
  {
   "cell_type": "code",
   "execution_count": 15,
   "metadata": {
    "collapsed": true
   },
   "outputs": [],
   "source": [
    "label = []\n",
    "for i in range(33402):\n",
    "    a = get_name(i,f)\n",
    "    b = get_bbox(i,f)\n",
    "    for l in range(len(b['label'])):\n",
    "        if b['label'][l] not in label:\n",
    "            label.append(b['label'][l])\n",
    "print(label)"
   ]
  },
  {
   "cell_type": "code",
   "execution_count": 10,
   "metadata": {},
   "outputs": [
    {
     "name": "stdout",
     "output_type": "stream",
     "text": [
      "33402\n"
     ]
    }
   ],
   "source": [
    "allFileList2 = os.listdir('yolov3/data/images/train')\n",
    "image_files = []\n",
    "n = 0\n",
    "for file in allFileList2:\n",
    "        if file.endswith(\".png\"):\n",
    "            image_files.append('data/images/train'+'/'+file)\n",
    "            n+=1\n",
    "            \n",
    "            \n",
    "f = open('train.txt', \"w\")\n",
    "for image in image_files:\n",
    "    f.write(image)\n",
    "    f.write(\"\\n\")\n",
    "f.close()\n",
    "\n",
    "print(n)\n",
    "#trian.txt最後一行要再手動編輯，把空白列刪除"
   ]
  },
  {
   "cell_type": "code",
   "execution_count": 6,
   "metadata": {},
   "outputs": [
    {
     "name": "stdout",
     "output_type": "stream",
     "text": [
      "13068\n"
     ]
    }
   ],
   "source": [
    "allFileList_t = os.listdir('test')\n",
    "image_files_t = []\n",
    "n = 0\n",
    "for file in allFileList_t:\n",
    "        image_files_t.append('data/images/test'+'/'+file)\n",
    "        n+=1\n",
    "            \n",
    "            \n",
    "f = open('test.txt', \"w\")\n",
    "for image in image_files_t:\n",
    "    f.write(image)\n",
    "    f.write(\"\\n\")\n",
    "f.close()\n",
    "\n",
    "print(n)\n",
    "#trian.txt最後一行要再手動編輯，把空白列刪除"
   ]
  },
  {
   "cell_type": "code",
   "execution_count": 10,
   "metadata": {},
   "outputs": [
    {
     "name": "stdout",
     "output_type": "stream",
     "text": [
      "13068\n"
     ]
    }
   ],
   "source": [
    "# 改檔名\n",
    "test_path = 'yolov5/data/images/test/'\n",
    "\n",
    "allFileList_test = os.listdir(test_path)\n",
    "\n",
    "# 逐一查詢檔案清單\n",
    "n = 0\n",
    "for file in allFileList_test:\n",
    "    file_name = file.split('.')[0]\n",
    "    if file.endswith('png'):\n",
    "        #print(file_name)\n",
    "        #print(len(file_name))\n",
    "        new_fname = file_name.zfill(5)\n",
    "        os.rename(os.path.join(test_path, file), os.path.join(test_path, new_fname)+'.png')\n",
    "        n+=1\n",
    "            \n",
    "print(n)"
   ]
  }
 ],
 "metadata": {
  "kernelspec": {
   "display_name": "Python 3",
   "language": "python",
   "name": "python3"
  },
  "language_info": {
   "codemirror_mode": {
    "name": "ipython",
    "version": 3
   },
   "file_extension": ".py",
   "mimetype": "text/x-python",
   "name": "python",
   "nbconvert_exporter": "python",
   "pygments_lexer": "ipython3",
   "version": "3.6.12"
  }
 },
 "nbformat": 4,
 "nbformat_minor": 2
}
